{
  "nbformat": 4,
  "nbformat_minor": 0,
  "metadata": {
    "colab": {
      "name": "ML_week 7.ipynb",
      "provenance": []
    },
    "kernelspec": {
      "name": "python3",
      "display_name": "Python 3"
    },
    "language_info": {
      "name": "python"
    }
  },
  "cells": [
    {
      "cell_type": "markdown",
      "metadata": {
        "id": "M8NM_yWKlC7u"
      },
      "source": [
        "XGBoost (eXtreme Gradient Boosting)"
      ]
    },
    {
      "cell_type": "code",
      "metadata": {
        "id": "uAmE_9_zgcI4"
      },
      "source": [
        "#Import Required Modules\n",
        "import pandas as pd\n",
        "from sklearn.model_selection import train_test_split\n",
        "from sklearn.impute import SimpleImputer as Imputer\n",
        "\n",
        "from xgboost import XGBRegressor"
      ],
      "execution_count": 1,
      "outputs": []
    },
    {
      "cell_type": "code",
      "metadata": {
        "id": "j9FlLc-njZ3p"
      },
      "source": [
        "data = pd.read_csv('train.csv')\n",
        "data.dropna(axis=0, subset=['SalePrice'], inplace=True)\n",
        "y = data.SalePrice\n",
        "X = data.drop(['SalePrice'], axis=1).select_dtypes(exclude=['object'])\n",
        "train_X, test_X, train_y, test_y = train_test_split(X.to_numpy(), y.to_numpy(), test_size=0.25)\n",
        "\n",
        "my_imputer = Imputer()\n",
        "train_X = my_imputer.fit_transform(train_X)\n",
        "test_X = my_imputer.transform(test_X)"
      ],
      "execution_count": 3,
      "outputs": []
    },
    {
      "cell_type": "code",
      "metadata": {
        "colab": {
          "base_uri": "https://localhost:8080/"
        },
        "id": "oXMalpgRjbsX",
        "outputId": "533b26d6-deb6-456c-f6fc-f82af2b1b326"
      },
      "source": [
        "my_model = XGBRegressor()\n",
        "# Add silent=True to avoid printing out updates with each cycle\n",
        "my_model.fit(train_X, train_y, verbose=False)"
      ],
      "execution_count": 9,
      "outputs": [
        {
          "output_type": "stream",
          "name": "stdout",
          "text": [
            "[15:45:35] WARNING: /workspace/src/objective/regression_obj.cu:152: reg:linear is now deprecated in favor of reg:squarederror.\n"
          ]
        },
        {
          "output_type": "execute_result",
          "data": {
            "text/plain": [
              "XGBRegressor()"
            ]
          },
          "metadata": {},
          "execution_count": 9
        }
      ]
    },
    {
      "cell_type": "code",
      "metadata": {
        "colab": {
          "base_uri": "https://localhost:8080/"
        },
        "id": "DAzra1hFjegR",
        "outputId": "0e647d40-ce8c-4672-eacc-4e80649c96a5"
      },
      "source": [
        "# make predictions\n",
        "predictions = my_model.predict(test_X)\n",
        "\n",
        "from sklearn.metrics import mean_absolute_error\n",
        "print(\"Mean Absolute Error : \" + str(mean_absolute_error(predictions, test_y)))"
      ],
      "execution_count": 11,
      "outputs": [
        {
          "output_type": "stream",
          "name": "stdout",
          "text": [
            "Mean Absolute Error : 17828.47044092466\n"
          ]
        }
      ]
    }
  ]
}